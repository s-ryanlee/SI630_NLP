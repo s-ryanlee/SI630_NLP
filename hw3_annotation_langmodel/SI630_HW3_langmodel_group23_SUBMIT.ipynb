{
 "cells": [
  {
   "cell_type": "markdown",
   "id": "23dcf4ea",
   "metadata": {},
   "source": [
    "# Recognizing Helpful Answers\n",
    "\n",
    "Part 2 will have you developing classifiers using the very powerful Hugging Face library. Modern NLP has been driven by advancements in Large Language Models (LLMs) which, like we discussed in Week 3, learn to predict the word sequences. Substantial amounts of research have shown that once the models learn to “recognize language,” the parameters in these models (the weights in the neural network) can quickly be adapted to accomplish many NLP tasks.\n",
    "For this assignment we will use a much smaller but nearly-as-performant [version of BERT](https://huggingface.co/microsoft/MiniLM-L12-H384-uncased) to train our models."
   ]
  },
  {
   "cell_type": "markdown",
   "id": "288fc385",
   "metadata": {},
   "source": [
    "## Load Data"
   ]
  },
  {
   "cell_type": "code",
   "execution_count": 7,
   "id": "fa267f3f-6ae0-4e8a-a937-aab4344ce2a2",
   "metadata": {},
   "outputs": [],
   "source": [
    "#!pip install -r requirements.txt"
   ]
  },
  {
   "cell_type": "code",
   "execution_count": 12,
   "id": "d604c1dc-d5b0-40b8-ae51-d572581889ce",
   "metadata": {},
   "outputs": [],
   "source": [
    "from datasets import load_dataset, load_metric, Dataset\n",
    "from transformers import BertTokenizer, BertForSequenceClassification, EarlyStoppingCallback\n",
    "from transformers import Trainer, TrainingArguments, EvalPrediction\n",
    "import pandas as pd\n",
    "import torch\n",
    "import wandb\n",
    "import os\n",
    "from pathlib import Path\n",
    "torch.cuda.empty_cache()"
   ]
  },
  {
   "cell_type": "code",
   "execution_count": 2,
   "id": "409218f8-807e-4c31-b7d3-a085b886048e",
   "metadata": {},
   "outputs": [],
   "source": [
    "train_data = pd.read_csv('data/si630w22-hw3-train.csv')\n",
    "dev_data = pd.read_csv('data/si630w22-hw3-dev.csv')\n",
    "test_data = pd.read_csv('data/si630w22-hw3-test.public.csv')\n",
    "q_and_a_data = pd.read_csv('data/si630w22-hw3-data.csv')"
   ]
  },
  {
   "cell_type": "markdown",
   "id": "b81b7cd9",
   "metadata": {},
   "source": [
    "## Preprocessing"
   ]
  },
  {
   "cell_type": "code",
   "execution_count": 3,
   "id": "af1df787-07b3-42f9-ab49-17d3fe59378c",
   "metadata": {},
   "outputs": [],
   "source": [
    "#combine the the different ratings\n",
    "train_df = train_data.groupby('id').mean()\n",
    "train_df = train_df.reset_index()\n",
    "dev_df = dev_data.groupby('id').mean()\n",
    "dev_df = dev_df.reset_index()"
   ]
  },
  {
   "cell_type": "code",
   "execution_count": 4,
   "id": "aa185d0d-38ab-473d-897d-dbb9921fa8a7",
   "metadata": {},
   "outputs": [
    {
     "data": {
      "text/html": [
       "<div>\n",
       "<style scoped>\n",
       "    .dataframe tbody tr th:only-of-type {\n",
       "        vertical-align: middle;\n",
       "    }\n",
       "\n",
       "    .dataframe tbody tr th {\n",
       "        vertical-align: top;\n",
       "    }\n",
       "\n",
       "    .dataframe thead th {\n",
       "        text-align: right;\n",
       "    }\n",
       "</style>\n",
       "<table border=\"1\" class=\"dataframe\">\n",
       "  <thead>\n",
       "    <tr style=\"text-align: right;\">\n",
       "      <th></th>\n",
       "      <th>id</th>\n",
       "      <th>annotator_id</th>\n",
       "      <th>rating</th>\n",
       "      <th>group</th>\n",
       "    </tr>\n",
       "  </thead>\n",
       "  <tbody>\n",
       "    <tr>\n",
       "      <th>0</th>\n",
       "      <td>t3_n27vu3</td>\n",
       "      <td>user_00</td>\n",
       "      <td>5.0</td>\n",
       "      <td>group_09</td>\n",
       "    </tr>\n",
       "    <tr>\n",
       "      <th>1</th>\n",
       "      <td>t3_n27vu3</td>\n",
       "      <td>user_01</td>\n",
       "      <td>5.0</td>\n",
       "      <td>group_09</td>\n",
       "    </tr>\n",
       "    <tr>\n",
       "      <th>2</th>\n",
       "      <td>t3_n27vu3</td>\n",
       "      <td>user_02</td>\n",
       "      <td>5.0</td>\n",
       "      <td>group_09</td>\n",
       "    </tr>\n",
       "    <tr>\n",
       "      <th>3</th>\n",
       "      <td>t3_n2az7m</td>\n",
       "      <td>user_00</td>\n",
       "      <td>5.0</td>\n",
       "      <td>group_09</td>\n",
       "    </tr>\n",
       "    <tr>\n",
       "      <th>4</th>\n",
       "      <td>t3_n2az7m</td>\n",
       "      <td>user_01</td>\n",
       "      <td>5.0</td>\n",
       "      <td>group_09</td>\n",
       "    </tr>\n",
       "  </tbody>\n",
       "</table>\n",
       "</div>"
      ],
      "text/plain": [
       "          id annotator_id  rating     group\n",
       "0  t3_n27vu3      user_00     5.0  group_09\n",
       "1  t3_n27vu3      user_01     5.0  group_09\n",
       "2  t3_n27vu3      user_02     5.0  group_09\n",
       "3  t3_n2az7m      user_00     5.0  group_09\n",
       "4  t3_n2az7m      user_01     5.0  group_09"
      ]
     },
     "execution_count": 4,
     "metadata": {},
     "output_type": "execute_result"
    }
   ],
   "source": [
    "train_data.head() # we need to concat the annotator and group ids as well."
   ]
  },
  {
   "cell_type": "code",
   "execution_count": 5,
   "id": "ada25747-0666-44f1-a091-73134005da49",
   "metadata": {},
   "outputs": [
    {
     "data": {
      "text/html": [
       "<div>\n",
       "<style scoped>\n",
       "    .dataframe tbody tr th:only-of-type {\n",
       "        vertical-align: middle;\n",
       "    }\n",
       "\n",
       "    .dataframe tbody tr th {\n",
       "        vertical-align: top;\n",
       "    }\n",
       "\n",
       "    .dataframe thead th {\n",
       "        text-align: right;\n",
       "    }\n",
       "</style>\n",
       "<table border=\"1\" class=\"dataframe\">\n",
       "  <thead>\n",
       "    <tr style=\"text-align: right;\">\n",
       "      <th></th>\n",
       "      <th>id</th>\n",
       "      <th>annotator_id</th>\n",
       "      <th>group</th>\n",
       "    </tr>\n",
       "  </thead>\n",
       "  <tbody>\n",
       "    <tr>\n",
       "      <th>0</th>\n",
       "      <td>t3_n2ooiu</td>\n",
       "      <td>user_00</td>\n",
       "      <td>group_09</td>\n",
       "    </tr>\n",
       "    <tr>\n",
       "      <th>1</th>\n",
       "      <td>t3_n2ooiu</td>\n",
       "      <td>user_01</td>\n",
       "      <td>group_09</td>\n",
       "    </tr>\n",
       "    <tr>\n",
       "      <th>2</th>\n",
       "      <td>t3_n2ooiu</td>\n",
       "      <td>user_02</td>\n",
       "      <td>group_09</td>\n",
       "    </tr>\n",
       "    <tr>\n",
       "      <th>3</th>\n",
       "      <td>t3_n2to6d</td>\n",
       "      <td>user_00</td>\n",
       "      <td>group_09</td>\n",
       "    </tr>\n",
       "    <tr>\n",
       "      <th>4</th>\n",
       "      <td>t3_n2to6d</td>\n",
       "      <td>user_01</td>\n",
       "      <td>group_09</td>\n",
       "    </tr>\n",
       "  </tbody>\n",
       "</table>\n",
       "</div>"
      ],
      "text/plain": [
       "          id annotator_id     group\n",
       "0  t3_n2ooiu      user_00  group_09\n",
       "1  t3_n2ooiu      user_01  group_09\n",
       "2  t3_n2ooiu      user_02  group_09\n",
       "3  t3_n2to6d      user_00  group_09\n",
       "4  t3_n2to6d      user_01  group_09"
      ]
     },
     "execution_count": 5,
     "metadata": {},
     "output_type": "execute_result"
    }
   ],
   "source": [
    "test_data.head()"
   ]
  },
  {
   "cell_type": "code",
   "execution_count": 6,
   "id": "b1862bc9-8258-401a-934d-109bd381425f",
   "metadata": {},
   "outputs": [
    {
     "data": {
      "text/html": [
       "<div>\n",
       "<style scoped>\n",
       "    .dataframe tbody tr th:only-of-type {\n",
       "        vertical-align: middle;\n",
       "    }\n",
       "\n",
       "    .dataframe tbody tr th {\n",
       "        vertical-align: top;\n",
       "    }\n",
       "\n",
       "    .dataframe thead th {\n",
       "        text-align: right;\n",
       "    }\n",
       "</style>\n",
       "<table border=\"1\" class=\"dataframe\">\n",
       "  <thead>\n",
       "    <tr style=\"text-align: right;\">\n",
       "      <th></th>\n",
       "      <th>text</th>\n",
       "      <th>question_id</th>\n",
       "    </tr>\n",
       "  </thead>\n",
       "  <tbody>\n",
       "    <tr>\n",
       "      <th>0</th>\n",
       "      <td>Should I be insecure of my penis size?[SEP]Tru...</td>\n",
       "      <td>t3_n2ooiu</td>\n",
       "    </tr>\n",
       "    <tr>\n",
       "      <th>3</th>\n",
       "      <td>how do you guys lay out for monthly AND weekly...</td>\n",
       "      <td>t3_n2to6d</td>\n",
       "    </tr>\n",
       "    <tr>\n",
       "      <th>8</th>\n",
       "      <td>What business could you realistic start with $...</td>\n",
       "      <td>t3_n2xuk5</td>\n",
       "    </tr>\n",
       "    <tr>\n",
       "      <th>13</th>\n",
       "      <td>Has anyone ever actually been in a classic hor...</td>\n",
       "      <td>t3_n2xrc5</td>\n",
       "    </tr>\n",
       "    <tr>\n",
       "      <th>18</th>\n",
       "      <td>If you could go back in time and change one th...</td>\n",
       "      <td>t3_n2yhgh</td>\n",
       "    </tr>\n",
       "  </tbody>\n",
       "</table>\n",
       "</div>"
      ],
      "text/plain": [
       "                                                 text question_id\n",
       "0   Should I be insecure of my penis size?[SEP]Tru...   t3_n2ooiu\n",
       "3   how do you guys lay out for monthly AND weekly...   t3_n2to6d\n",
       "8   What business could you realistic start with $...   t3_n2xuk5\n",
       "13  Has anyone ever actually been in a classic hor...   t3_n2xrc5\n",
       "18  If you could go back in time and change one th...   t3_n2yhgh"
      ]
     },
     "execution_count": 6,
     "metadata": {},
     "output_type": "execute_result"
    }
   ],
   "source": [
    "train_df.rename(columns={'id':'question_id'}, inplace = True)\n",
    "dev_df.rename(columns={'id':'question_id'}, inplace = True)\n",
    "test_data.rename(columns={'id':'question_id'}, inplace = True)\n",
    "train_df.rename(columns={'rating':'labels'}, inplace = True)\n",
    "dev_df.rename(columns={'rating':'labels'}, inplace = True)\n",
    "\n",
    "# train_df['labels'] = train_df.labels.apply(lambda x: [x])\n",
    "# dev_df['labels'] = dev_df.labels.apply(lambda x: [x])\n",
    "\n",
    "q_and_a_data['text'] = q_and_a_data.question_text + '[SEP]' + q_and_a_data.reply_text\n",
    "\n",
    "merged_train_data = pd.merge(train_df,q_and_a_data[['text','question_id']], on='question_id', how='left')\n",
    "merged_train_data.dropna(subset=['labels'], inplace = True)\n",
    "merged_train_data.drop(columns=['question_id'], inplace = True)\n",
    "merged_train_data.to_csv('data/merged_train_data3.csv', index=False)\n",
    "\n",
    "merged_dev_data = pd.merge(dev_df, q_and_a_data[['text','question_id']], on='question_id', how='left')\n",
    "merged_dev_data.dropna(subset=['labels'], inplace = True)\n",
    "merged_dev_data.drop(columns=['question_id'], inplace = True)\n",
    "merged_dev_data.to_csv('data/merged_dev_data3.csv', index=False)\n",
    "\n",
    "merged_test_data = pd.merge(q_and_a_data[['text','question_id']], test_data, on='question_id', how='inner')\n",
    "merged_test_data.drop_duplicates(subset=['question_id'],inplace=True)\n",
    "merged_test_data.drop(columns=['annotator_id','group'], inplace = True)\n",
    "merged_test_data.to_csv('data/merged_test_data3.csv', index=False)\n",
    "merged_test_data.head()"
   ]
  },
  {
   "cell_type": "markdown",
   "id": "735d26f8",
   "metadata": {},
   "source": [
    "## Model Development & Training\n",
    "\n",
    "Develop your code using huggingface’s Trainer class to train a classifier or regressor to predict the helpfulness rating of an answer."
   ]
  },
  {
   "cell_type": "code",
   "execution_count": 7,
   "id": "7944cfeb-f7ed-4784-adcc-11e4ad529510",
   "metadata": {},
   "outputs": [
    {
     "name": "stderr",
     "output_type": "stream",
     "text": [
      "Using custom data configuration default-a9942d6c6b21bc45\n"
     ]
    },
    {
     "name": "stdout",
     "output_type": "stream",
     "text": [
      "Downloading and preparing dataset csv/default to /home/sryanlee/.cache/huggingface/datasets/csv/default-a9942d6c6b21bc45/0.0.0/433e0ccc46f9880962cc2b12065189766fbb2bee57a221866138fb9203c83519...\n"
     ]
    },
    {
     "data": {
      "application/vnd.jupyter.widget-view+json": {
       "model_id": "e855d53ec4224dcba740e922a66a1445",
       "version_major": 2,
       "version_minor": 0
      },
      "text/plain": [
       "Downloading data files:   0%|          | 0/1 [00:00<?, ?it/s]"
      ]
     },
     "metadata": {},
     "output_type": "display_data"
    },
    {
     "data": {
      "application/vnd.jupyter.widget-view+json": {
       "model_id": "ae52870069b9401796cb43ceb35ac080",
       "version_major": 2,
       "version_minor": 0
      },
      "text/plain": [
       "Extracting data files:   0%|          | 0/1 [00:00<?, ?it/s]"
      ]
     },
     "metadata": {},
     "output_type": "display_data"
    },
    {
     "name": "stdout",
     "output_type": "stream",
     "text": [
      "Dataset csv downloaded and prepared to /home/sryanlee/.cache/huggingface/datasets/csv/default-a9942d6c6b21bc45/0.0.0/433e0ccc46f9880962cc2b12065189766fbb2bee57a221866138fb9203c83519. Subsequent calls will reuse this data.\n"
     ]
    },
    {
     "data": {
      "application/vnd.jupyter.widget-view+json": {
       "model_id": "392c246b1d4a4b3096c34391295d4cac",
       "version_major": 2,
       "version_minor": 0
      },
      "text/plain": [
       "  0%|          | 0/1 [00:00<?, ?it/s]"
      ]
     },
     "metadata": {},
     "output_type": "display_data"
    },
    {
     "name": "stderr",
     "output_type": "stream",
     "text": [
      "Using custom data configuration default-4a35b8aecea6cbee\n"
     ]
    },
    {
     "name": "stdout",
     "output_type": "stream",
     "text": [
      "Downloading and preparing dataset csv/default to /home/sryanlee/.cache/huggingface/datasets/csv/default-4a35b8aecea6cbee/0.0.0/433e0ccc46f9880962cc2b12065189766fbb2bee57a221866138fb9203c83519...\n"
     ]
    },
    {
     "data": {
      "application/vnd.jupyter.widget-view+json": {
       "model_id": "a8f7469086f24013b9c600b4fea64df9",
       "version_major": 2,
       "version_minor": 0
      },
      "text/plain": [
       "Downloading data files:   0%|          | 0/2 [00:00<?, ?it/s]"
      ]
     },
     "metadata": {},
     "output_type": "display_data"
    },
    {
     "data": {
      "application/vnd.jupyter.widget-view+json": {
       "model_id": "770ced8f580e4c3f94ed0a2e96c1a43d",
       "version_major": 2,
       "version_minor": 0
      },
      "text/plain": [
       "Extracting data files:   0%|          | 0/2 [00:00<?, ?it/s]"
      ]
     },
     "metadata": {},
     "output_type": "display_data"
    },
    {
     "name": "stdout",
     "output_type": "stream",
     "text": [
      "Dataset csv downloaded and prepared to /home/sryanlee/.cache/huggingface/datasets/csv/default-4a35b8aecea6cbee/0.0.0/433e0ccc46f9880962cc2b12065189766fbb2bee57a221866138fb9203c83519. Subsequent calls will reuse this data.\n"
     ]
    },
    {
     "data": {
      "application/vnd.jupyter.widget-view+json": {
       "model_id": "e33d346dff444dd6b0127431571b63ca",
       "version_major": 2,
       "version_minor": 0
      },
      "text/plain": [
       "  0%|          | 0/2 [00:00<?, ?it/s]"
      ]
     },
     "metadata": {},
     "output_type": "display_data"
    },
    {
     "data": {
      "text/plain": [
       "DatasetDict({\n",
       "    train: Dataset({\n",
       "        features: ['labels', 'text'],\n",
       "        num_rows: 3779\n",
       "    })\n",
       "    dev: Dataset({\n",
       "        features: ['labels', 'text'],\n",
       "        num_rows: 811\n",
       "    })\n",
       "})"
      ]
     },
     "execution_count": 7,
     "metadata": {},
     "output_type": "execute_result"
    }
   ],
   "source": [
    "data_files = {\"train\": \"merged_train_data3.csv\",\n",
    "              \"dev\": \"merged_dev_data3.csv\",}\n",
    "test_dataset = load_dataset('csv', data_files={\"test\": \"merged_test_data3.csv\"} )\n",
    "dataset = load_dataset(\"csv\", data_files=data_files)\n",
    "dataset"
   ]
  },
  {
   "cell_type": "code",
   "execution_count": 8,
   "id": "853a8570-1943-4494-aa11-15b6ec7d7297",
   "metadata": {},
   "outputs": [
    {
     "data": {
      "text/plain": [
       "DatasetDict({\n",
       "    test: Dataset({\n",
       "        features: ['text', 'question_id'],\n",
       "        num_rows: 810\n",
       "    })\n",
       "})"
      ]
     },
     "execution_count": 8,
     "metadata": {},
     "output_type": "execute_result"
    }
   ],
   "source": [
    "test_dataset"
   ]
  },
  {
   "cell_type": "code",
   "execution_count": 9,
   "id": "dd936c7f-e839-477b-8769-828acef42084",
   "metadata": {},
   "outputs": [
    {
     "data": {
      "application/vnd.jupyter.widget-view+json": {
       "model_id": "a47f5055f58d444ca5d2f89d079db21a",
       "version_major": 2,
       "version_minor": 0
      },
      "text/plain": [
       "Downloading:   0%|          | 0.00/385 [00:00<?, ?B/s]"
      ]
     },
     "metadata": {},
     "output_type": "display_data"
    },
    {
     "data": {
      "application/vnd.jupyter.widget-view+json": {
       "model_id": "4615fbe865884c898b32dfdddfdad0c2",
       "version_major": 2,
       "version_minor": 0
      },
      "text/plain": [
       "Downloading:   0%|          | 0.00/127M [00:00<?, ?B/s]"
      ]
     },
     "metadata": {},
     "output_type": "display_data"
    },
    {
     "name": "stderr",
     "output_type": "stream",
     "text": [
      "Some weights of BertForSequenceClassification were not initialized from the model checkpoint at microsoft/MiniLM-L12-H384-uncased and are newly initialized: ['classifier.bias', 'classifier.weight']\n",
      "You should probably TRAIN this model on a down-stream task to be able to use it for predictions and inference.\n"
     ]
    },
    {
     "data": {
      "application/vnd.jupyter.widget-view+json": {
       "model_id": "dc4fd805975b435e879d8ac0c9c0fb04",
       "version_major": 2,
       "version_minor": 0
      },
      "text/plain": [
       "Downloading:   0%|          | 0.00/226k [00:00<?, ?B/s]"
      ]
     },
     "metadata": {},
     "output_type": "display_data"
    },
    {
     "data": {
      "application/vnd.jupyter.widget-view+json": {
       "model_id": "9ab3c3bf24eb415db98e179a0e63e634",
       "version_major": 2,
       "version_minor": 0
      },
      "text/plain": [
       "Downloading:   0%|          | 0.00/112 [00:00<?, ?B/s]"
      ]
     },
     "metadata": {},
     "output_type": "display_data"
    },
    {
     "data": {
      "application/vnd.jupyter.widget-view+json": {
       "model_id": "af8d119407b14f2dbff71dbb3bea7a9f",
       "version_major": 2,
       "version_minor": 0
      },
      "text/plain": [
       "Downloading:   0%|          | 0.00/2.00 [00:00<?, ?B/s]"
      ]
     },
     "metadata": {},
     "output_type": "display_data"
    }
   ],
   "source": [
    "# model = BertForSequenceClassification.from_pretrained(\"microsoft/MiniLM-L12-H384-uncased\",problem_type=\"multi_label_classification\",num_labels=5)\n",
    "model = BertForSequenceClassification.from_pretrained(\"microsoft/MiniLM-L12-H384-uncased\", num_labels=1)\n",
    "# regressor uses num_labels=1, default is binary classification num_labels=2\n",
    "tokenizer = BertTokenizer.from_pretrained(\"microsoft/MiniLM-L12-H384-uncased\", padding = True, truncation=True ,max_length =512)"
   ]
  },
  {
   "cell_type": "code",
   "execution_count": 10,
   "id": "42e75fe7-319b-410a-a249-ac46c337b4f8",
   "metadata": {},
   "outputs": [
    {
     "data": {
      "application/vnd.jupyter.widget-view+json": {
       "model_id": "1cbb3e6996f04aa68d45dcf7096043bc",
       "version_major": 2,
       "version_minor": 0
      },
      "text/plain": [
       "  0%|          | 0/3779 [00:00<?, ?ex/s]"
      ]
     },
     "metadata": {},
     "output_type": "display_data"
    },
    {
     "data": {
      "application/vnd.jupyter.widget-view+json": {
       "model_id": "a67dee38f6f542a6a77e19e527b88f57",
       "version_major": 2,
       "version_minor": 0
      },
      "text/plain": [
       "  0%|          | 0/811 [00:00<?, ?ex/s]"
      ]
     },
     "metadata": {},
     "output_type": "display_data"
    },
    {
     "data": {
      "application/vnd.jupyter.widget-view+json": {
       "model_id": "5537cddd79d747c38a2ae2120de5000c",
       "version_major": 2,
       "version_minor": 0
      },
      "text/plain": [
       "  0%|          | 0/810 [00:00<?, ?ex/s]"
      ]
     },
     "metadata": {},
     "output_type": "display_data"
    }
   ],
   "source": [
    "tokenized_train_dataset = dataset['train'].map(lambda x: tokenizer(x['text'],padding = 'max_length', max_length =512, truncation=True))\n",
    "tokenized_dev_dataset = dataset['dev'].map(lambda x: tokenizer(x['text'],padding = 'max_length', max_length =512, truncation=True))\n",
    "tokenized_test_dataset = test_dataset['test'].map(lambda x: tokenizer(x['text'],padding = 'max_length', max_length =512, truncation=True))"
   ]
  },
  {
   "cell_type": "code",
   "execution_count": 11,
   "id": "f04cb4fe-c7f4-4858-8938-91b2e8ed7c2c",
   "metadata": {},
   "outputs": [],
   "source": [
    "tokenized_train_dataset.set_format(type='torch', columns=['input_ids', 'token_type_ids', 'attention_mask','labels'])\n",
    "tokenized_dev_dataset.set_format(type='torch', columns=['input_ids', 'token_type_ids', 'attention_mask','labels'])\n",
    "tokenized_test_dataset.set_format(type='torch', columns=['input_ids', 'token_type_ids', 'attention_mask'])"
   ]
  },
  {
   "cell_type": "code",
   "execution_count": 12,
   "id": "89a7b354-dc2e-4efe-b91a-85915f5dfa06",
   "metadata": {},
   "outputs": [
    {
     "data": {
      "text/plain": [
       "Dataset({\n",
       "    features: ['labels', 'text', 'input_ids', 'token_type_ids', 'attention_mask'],\n",
       "    num_rows: 3779\n",
       "})"
      ]
     },
     "execution_count": 12,
     "metadata": {},
     "output_type": "execute_result"
    }
   ],
   "source": [
    "tokenized_train_dataset"
   ]
  },
  {
   "cell_type": "code",
   "execution_count": 13,
   "id": "aafeaf7c-3721-4e23-8ce9-62273174acf9",
   "metadata": {},
   "outputs": [],
   "source": [
    "from sklearn.metrics import mean_squared_error\n",
    "import numpy as np\n",
    "def compute_metrics(pred):\n",
    "    labels = pred.label_ids\n",
    "    preds = pred.predictions\n",
    "    preds = preds.reshape(len(preds),)\n",
    "    mse = mean_squared_error(labels, preds)\n",
    "    return {\n",
    "        'mse': mse\n",
    "    }"
   ]
  },
  {
   "cell_type": "code",
   "execution_count": 14,
   "id": "fd8933b4-5518-4292-80fa-c3621518614a",
   "metadata": {},
   "outputs": [],
   "source": [
    "training_args = TrainingArguments(\n",
    "    output_dir = 'BERTSeq',\n",
    "    num_train_epochs = 3,\n",
    "    evaluation_strategy = 'steps',\n",
    "    eval_steps = 500,\n",
    "    learning_rate=1e-4,\n",
    "    per_device_train_batch_size = 8,\n",
    "    per_device_eval_batch_size = 8,\n",
    "    seed =0,\n",
    "    load_best_model_at_end = True\n",
    "#     do_train = True,\n",
    "#     do_eval = True,\n",
    "#     logging_strategy = 'epoch',\n",
    "#     metric_for_best_model = 'eval_loss',\n",
    "#     warmup_steps = 250,\n",
    "#     weight_decay = 0.01,\n",
    ")"
   ]
  },
  {
   "cell_type": "code",
   "execution_count": 15,
   "id": "c195c351-8022-4574-a9cd-9d6b4d7c613d",
   "metadata": {},
   "outputs": [],
   "source": [
    "trainer = Trainer(\n",
    "    model,\n",
    "    training_args,\n",
    "    train_dataset=tokenized_train_dataset,\n",
    "    eval_dataset=tokenized_dev_dataset,\n",
    "    compute_metrics=compute_metrics,\n",
    "#     compute_mse(tokenized_dataset['dev']['labels'],tokenized_dataset['dev']['labels']),\n",
    "#     data_collator=data_collator,\n",
    "#     tokenizer=tokenizer\n",
    "    callbacks = [EarlyStoppingCallback(early_stopping_patience=3)]\n",
    ")"
   ]
  },
  {
   "cell_type": "code",
   "execution_count": 18,
   "id": "dfd45e7a-eba9-48ac-a0e9-1497366abb5b",
   "metadata": {},
   "outputs": [
    {
     "name": "stderr",
     "output_type": "stream",
     "text": [
      "The following columns in the training set  don't have a corresponding argument in `BertForSequenceClassification.forward` and have been ignored: text. If text are not expected by `BertForSequenceClassification.forward`,  you can safely ignore this message.\n",
      "***** Running training *****\n",
      "  Num examples = 3779\n",
      "  Num Epochs = 3\n",
      "  Instantaneous batch size per device = 8\n",
      "  Total train batch size (w. parallel, distributed & accumulation) = 8\n",
      "  Gradient Accumulation steps = 1\n",
      "  Total optimization steps = 1419\n"
     ]
    },
    {
     "data": {
      "text/html": [
       "\n",
       "    <div>\n",
       "      \n",
       "      <progress value='1419' max='1419' style='width:300px; height:20px; vertical-align: middle;'></progress>\n",
       "      [1419/1419 03:37, Epoch 3/3]\n",
       "    </div>\n",
       "    <table border=\"1\" class=\"dataframe\">\n",
       "  <thead>\n",
       " <tr style=\"text-align: left;\">\n",
       "      <th>Step</th>\n",
       "      <th>Training Loss</th>\n",
       "      <th>Validation Loss</th>\n",
       "      <th>Mse</th>\n",
       "    </tr>\n",
       "  </thead>\n",
       "  <tbody>\n",
       "    <tr>\n",
       "      <td>500</td>\n",
       "      <td>0.497900</td>\n",
       "      <td>0.511253</td>\n",
       "      <td>0.511253</td>\n",
       "    </tr>\n",
       "    <tr>\n",
       "      <td>1000</td>\n",
       "      <td>0.495600</td>\n",
       "      <td>0.511253</td>\n",
       "      <td>0.511253</td>\n",
       "    </tr>\n",
       "  </tbody>\n",
       "</table><p>"
      ],
      "text/plain": [
       "<IPython.core.display.HTML object>"
      ]
     },
     "metadata": {},
     "output_type": "display_data"
    },
    {
     "name": "stderr",
     "output_type": "stream",
     "text": [
      "The following columns in the evaluation set  don't have a corresponding argument in `BertForSequenceClassification.forward` and have been ignored: text. If text are not expected by `BertForSequenceClassification.forward`,  you can safely ignore this message.\n",
      "***** Running Evaluation *****\n",
      "  Num examples = 811\n",
      "  Batch size = 8\n",
      "Saving model checkpoint to BERTSeq/checkpoint-500\n",
      "Configuration saved in BERTSeq/checkpoint-500/config.json\n",
      "Model weights saved in BERTSeq/checkpoint-500/pytorch_model.bin\n",
      "The following columns in the evaluation set  don't have a corresponding argument in `BertForSequenceClassification.forward` and have been ignored: text. If text are not expected by `BertForSequenceClassification.forward`,  you can safely ignore this message.\n",
      "***** Running Evaluation *****\n",
      "  Num examples = 811\n",
      "  Batch size = 8\n",
      "Saving model checkpoint to BERTSeq/checkpoint-1000\n",
      "Configuration saved in BERTSeq/checkpoint-1000/config.json\n",
      "Model weights saved in BERTSeq/checkpoint-1000/pytorch_model.bin\n",
      "\n",
      "\n",
      "Training completed. Do not forget to share your model on huggingface.co/models =)\n",
      "\n",
      "\n",
      "Loading best model from BERTSeq/checkpoint-500 (score: 0.5112533569335938).\n"
     ]
    },
    {
     "data": {
      "text/plain": [
       "TrainOutput(global_step=1419, training_loss=0.49698239434681113, metrics={'train_runtime': 217.9194, 'train_samples_per_second': 52.024, 'train_steps_per_second': 6.512, 'total_flos': 746785732783104.0, 'train_loss': 0.49698239434681113, 'epoch': 3.0})"
      ]
     },
     "execution_count": 18,
     "metadata": {},
     "output_type": "execute_result"
    }
   ],
   "source": [
    "trainer.train()"
   ]
  },
  {
   "cell_type": "code",
   "execution_count": 18,
   "id": "6bf0c56a-60c0-43ff-8b9e-ab062964fadf",
   "metadata": {},
   "outputs": [
    {
     "name": "stderr",
     "output_type": "stream",
     "text": [
      "Loading model from BERTSeq/checkpoint-1000).\n",
      "The following columns in the training set  don't have a corresponding argument in `BertForSequenceClassification.forward` and have been ignored: text. If text are not expected by `BertForSequenceClassification.forward`,  you can safely ignore this message.\n",
      "c:\\users\\sryanlee\\documents\\projects\\si630\\si630_nlp\\hw3_annotation_langmodel\\hw3_venv\\lib\\site-packages\\transformers\\optimization.py:306: FutureWarning: This implementation of AdamW is deprecated and will be removed in a future version. Use the PyTorch implementation torch.optim.AdamW instead, or set `no_deprecation_warning=True` to disable this warning\n",
      "  warnings.warn(\n",
      "***** Running training *****\n",
      "  Num examples = 3779\n",
      "  Num Epochs = 3\n",
      "  Instantaneous batch size per device = 8\n",
      "  Total train batch size (w. parallel, distributed & accumulation) = 8\n",
      "  Gradient Accumulation steps = 1\n",
      "  Total optimization steps = 1419\n",
      "  Continuing training from checkpoint, will skip to saved global_step\n",
      "  Continuing training from epoch 2\n",
      "  Continuing training from global step 1000\n",
      "  Will skip the first 2 epochs then the first 54 batches in the first epoch. If this takes a lot of time, you can add the `--ignore_data_skip` flag to your launch command, but you will resume the training on data already seen by your model.\n"
     ]
    },
    {
     "data": {
      "application/vnd.jupyter.widget-view+json": {
       "model_id": "4db1be6e148a4bf5a86d4253b6c03f47",
       "version_major": 2,
       "version_minor": 0
      },
      "text/plain": [
       "  0%|          | 0/54 [00:00<?, ?it/s]"
      ]
     },
     "metadata": {},
     "output_type": "display_data"
    },
    {
     "name": "stderr",
     "output_type": "stream",
     "text": [
      "Automatic Weights & Biases logging enabled, to disable set os.environ[\"WANDB_DISABLED\"] = \"true\"\n",
      "\u001b[34m\u001b[1mwandb\u001b[0m: Currently logged in as: \u001b[33ms-ryanlee\u001b[0m (use `wandb login --relogin` to force relogin)\n"
     ]
    },
    {
     "data": {
      "text/html": [
       "Tracking run with wandb version 0.12.11"
      ],
      "text/plain": [
       "<IPython.core.display.HTML object>"
      ]
     },
     "metadata": {},
     "output_type": "display_data"
    },
    {
     "data": {
      "text/html": [
       "Run data is saved locally in <code>C:\\Users\\sryanlee\\Documents\\projects\\SI630\\SI630_NLP\\hw3_annotation_langmodel\\wandb\\run-20220327_113925-3gzspb47</code>"
      ],
      "text/plain": [
       "<IPython.core.display.HTML object>"
      ]
     },
     "metadata": {},
     "output_type": "display_data"
    },
    {
     "data": {
      "text/html": [
       "Syncing run <strong><a href=\"https://wandb.ai/s-ryanlee/huggingface/runs/3gzspb47\" target=\"_blank\">BERTSeq</a></strong> to <a href=\"https://wandb.ai/s-ryanlee/huggingface\" target=\"_blank\">Weights & Biases</a> (<a href=\"https://wandb.me/run\" target=\"_blank\">docs</a>)<br/>"
      ],
      "text/plain": [
       "<IPython.core.display.HTML object>"
      ]
     },
     "metadata": {},
     "output_type": "display_data"
    },
    {
     "data": {
      "text/html": [
       "\n",
       "    <div>\n",
       "      \n",
       "      <progress value='1419' max='1419' style='width:300px; height:20px; vertical-align: middle;'></progress>\n",
       "      [1419/1419 1:49:47, Epoch 3/3]\n",
       "    </div>\n",
       "    <table border=\"1\" class=\"dataframe\">\n",
       "  <thead>\n",
       " <tr style=\"text-align: left;\">\n",
       "      <th>Step</th>\n",
       "      <th>Training Loss</th>\n",
       "      <th>Validation Loss</th>\n",
       "    </tr>\n",
       "  </thead>\n",
       "  <tbody>\n",
       "  </tbody>\n",
       "</table><p>"
      ],
      "text/plain": [
       "<IPython.core.display.HTML object>"
      ]
     },
     "metadata": {},
     "output_type": "display_data"
    },
    {
     "name": "stderr",
     "output_type": "stream",
     "text": [
      "\n",
      "\n",
      "Training completed. Do not forget to share your model on huggingface.co/models =)\n",
      "\n",
      "\n",
      "Loading best model from BERTSeq\\checkpoint-500 (score: 0.5560224056243896).\n"
     ]
    },
    {
     "data": {
      "text/plain": [
       "TrainOutput(global_step=1419, training_loss=0.15732230898189747, metrics={'train_runtime': 6608.0898, 'train_samples_per_second': 1.716, 'train_steps_per_second': 0.215, 'total_flos': 746785732783104.0, 'train_loss': 0.15732230898189747, 'epoch': 3.0})"
      ]
     },
     "execution_count": 18,
     "metadata": {},
     "output_type": "execute_result"
    }
   ],
   "source": [
    "trainer.train()"
   ]
  },
  {
   "cell_type": "code",
   "execution_count": 19,
   "id": "358edb22-9c7c-402e-b308-93b6a0ce493c",
   "metadata": {},
   "outputs": [
    {
     "name": "stderr",
     "output_type": "stream",
     "text": [
      "Saving model checkpoint to simple_best_model\n",
      "Configuration saved in simple_best_model/config.json\n",
      "Model weights saved in simple_best_model/pytorch_model.bin\n"
     ]
    }
   ],
   "source": [
    "trainer.save_model('simple_best_model')"
   ]
  },
  {
   "cell_type": "code",
   "execution_count": 20,
   "id": "98360411-9a0d-48e8-b25f-eb18f03a7ab3",
   "metadata": {},
   "outputs": [
    {
     "name": "stderr",
     "output_type": "stream",
     "text": [
      "The following columns in the evaluation set  don't have a corresponding argument in `BertForSequenceClassification.forward` and have been ignored: text. If text are not expected by `BertForSequenceClassification.forward`,  you can safely ignore this message.\n",
      "***** Running Evaluation *****\n",
      "  Num examples = 811\n",
      "  Batch size = 8\n"
     ]
    },
    {
     "data": {
      "text/html": [
       "\n",
       "    <div>\n",
       "      \n",
       "      <progress value='204' max='102' style='width:300px; height:20px; vertical-align: middle;'></progress>\n",
       "      [102/102 00:19]\n",
       "    </div>\n",
       "    "
      ],
      "text/plain": [
       "<IPython.core.display.HTML object>"
      ]
     },
     "metadata": {},
     "output_type": "display_data"
    },
    {
     "data": {
      "text/plain": [
       "{'eval_loss': 0.5112533569335938,\n",
       " 'eval_mse': 0.5112533569335938,\n",
       " 'eval_runtime': 4.2314,\n",
       " 'eval_samples_per_second': 191.664,\n",
       " 'eval_steps_per_second': 24.106,\n",
       " 'epoch': 3.0}"
      ]
     },
     "execution_count": 20,
     "metadata": {},
     "output_type": "execute_result"
    }
   ],
   "source": [
    "trainer.evaluate()"
   ]
  },
  {
   "cell_type": "markdown",
   "id": "61c6e0e9",
   "metadata": {},
   "source": [
    "## Predictions"
   ]
  },
  {
   "cell_type": "code",
   "execution_count": 21,
   "id": "886a1b5d-5668-4eef-8476-d2880cb29fee",
   "metadata": {},
   "outputs": [
    {
     "name": "stderr",
     "output_type": "stream",
     "text": [
      "The following columns in the test set  don't have a corresponding argument in `BertForSequenceClassification.forward` and have been ignored: question_id, text. If question_id, text are not expected by `BertForSequenceClassification.forward`,  you can safely ignore this message.\n",
      "***** Running Prediction *****\n",
      "  Num examples = 810\n",
      "  Batch size = 8\n"
     ]
    }
   ],
   "source": [
    "outputs = trainer.predict(tokenized_test_dataset)\n",
    "y_pred = outputs.predictions"
   ]
  },
  {
   "cell_type": "code",
   "execution_count": 22,
   "id": "ef99c611-c19b-4fc3-affd-4dce780f8b48",
   "metadata": {},
   "outputs": [],
   "source": [
    "merged_test_data['predicted'] = y_pred\n",
    "merged_test_data.drop(columns=['text'], inplace=True)\n",
    "merged_test_data.rename(columns={'question_id':'id'}, inplace=True)\n",
    "merged_test_data.to_csv('data/submission.csv', index=False)"
   ]
  }
 ],
 "metadata": {
  "kernelspec": {
   "display_name": "Python 3",
   "language": "python",
   "name": "python3"
  },
  "language_info": {
   "codemirror_mode": {
    "name": "ipython",
    "version": 3
   },
   "file_extension": ".py",
   "mimetype": "text/x-python",
   "name": "python",
   "nbconvert_exporter": "python",
   "pygments_lexer": "ipython3",
   "version": "3.8.8"
  }
 },
 "nbformat": 4,
 "nbformat_minor": 5
}
