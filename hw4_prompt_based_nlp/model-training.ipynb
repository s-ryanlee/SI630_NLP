{
 "cells": [
  {
   "cell_type": "markdown",
   "id": "433eb0d1",
   "metadata": {},
   "source": [
    "# Prompt-Based NLP\n",
    "\n",
    "In Homework 4, we’ll try using Jigsaw’s Toxic Language dataset using PET to train our classifier.\n",
    "Conveniently the PET authors have already provided code for you to use at https://github.com/timoschick/pet. Your task will be to (1) write your own custom verbalizer and patterns\n",
    "and (2) train your model by modifying one of their example scripts. The PET repository has good\n",
    "documentation on how to set up their model, train it, and use the code.\n",
    "\n",
    "Like in Homework 3, in this assignment we will use a much smaller but nearly-as-performant\n",
    "version of BERT, https://huggingface.co/microsoft/MiniLM-L12-H384-uncased,\n",
    "to train our models. While PET can work on any LLM, MiniLM will make the homework much\n",
    "faster to finish."
   ]
  },
  {
   "cell_type": "code",
   "execution_count": 1,
   "id": "9c29fff3",
   "metadata": {},
   "outputs": [],
   "source": [
    "import pandas as pd\n",
    "from transformers import BertTokenizerFast, BertForSequenceClassification #EarlyStoppingCallback\n",
    "from datasets import load_dataset, load_metric, Dataset\n",
    "from transformers import Trainer, TrainingArguments\n",
    "import torch\n",
    "#import wandb\n",
    "import os\n",
    "from pathlib import Path\n",
    "torch.cuda.empty_cache()"
   ]
  },
  {
   "cell_type": "code",
   "execution_count": 2,
   "id": "2d506de7",
   "metadata": {},
   "outputs": [
    {
     "data": {
      "text/html": [
       "<div>\n",
       "<style scoped>\n",
       "    .dataframe tbody tr th:only-of-type {\n",
       "        vertical-align: middle;\n",
       "    }\n",
       "\n",
       "    .dataframe tbody tr th {\n",
       "        vertical-align: top;\n",
       "    }\n",
       "\n",
       "    .dataframe thead th {\n",
       "        text-align: right;\n",
       "    }\n",
       "</style>\n",
       "<table border=\"1\" class=\"dataframe\">\n",
       "  <thead>\n",
       "    <tr style=\"text-align: right;\">\n",
       "      <th></th>\n",
       "      <th>id</th>\n",
       "      <th>comment_text</th>\n",
       "      <th>toxic</th>\n",
       "    </tr>\n",
       "  </thead>\n",
       "  <tbody>\n",
       "    <tr>\n",
       "      <th>100262</th>\n",
       "      <td>18bc9c930d585fe3</td>\n",
       "      <td>\"\\n\\n Gita's Samkhya is NOT DIFFERENT \\n\\n\"\"On...</td>\n",
       "      <td>1</td>\n",
       "    </tr>\n",
       "    <tr>\n",
       "      <th>114061</th>\n",
       "      <td>622f2af984c7bf08</td>\n",
       "      <td>Remaining pages \\n\\nWhen do you plan to have p...</td>\n",
       "      <td>0</td>\n",
       "    </tr>\n",
       "    <tr>\n",
       "      <th>137054</th>\n",
       "      <td>dd4c2206298426cc</td>\n",
       "      <td>The resultant redirect, AM-2 should redirect t...</td>\n",
       "      <td>0</td>\n",
       "    </tr>\n",
       "    <tr>\n",
       "      <th>67519</th>\n",
       "      <td>b4aed34834b1eff7</td>\n",
       "      <td>Nizami \\nJames, I add a lot of academical sour...</td>\n",
       "      <td>0</td>\n",
       "    </tr>\n",
       "    <tr>\n",
       "      <th>62525</th>\n",
       "      <td>a74c5249bcf40306</td>\n",
       "      <td>The same applies to your latest revert at Nati...</td>\n",
       "      <td>0</td>\n",
       "    </tr>\n",
       "  </tbody>\n",
       "</table>\n",
       "</div>"
      ],
      "text/plain": [
       "                      id                                       comment_text  \\\n",
       "100262  18bc9c930d585fe3  \"\\n\\n Gita's Samkhya is NOT DIFFERENT \\n\\n\"\"On...   \n",
       "114061  622f2af984c7bf08  Remaining pages \\n\\nWhen do you plan to have p...   \n",
       "137054  dd4c2206298426cc  The resultant redirect, AM-2 should redirect t...   \n",
       "67519   b4aed34834b1eff7  Nizami \\nJames, I add a lot of academical sour...   \n",
       "62525   a74c5249bcf40306  The same applies to your latest revert at Nati...   \n",
       "\n",
       "        toxic  \n",
       "100262      1  \n",
       "114061      0  \n",
       "137054      0  \n",
       "67519       0  \n",
       "62525       0  "
      ]
     },
     "execution_count": 2,
     "metadata": {},
     "output_type": "execute_result"
    }
   ],
   "source": [
    "train_df = pd.read_csv('data/hw4_train.csv')\n",
    "test_df = pd.read_csv('data/hw4_test.csv')\n",
    "train_df.sample(5)"
   ]
  },
  {
   "cell_type": "code",
   "execution_count": 4,
   "id": "4efdad4b",
   "metadata": {},
   "outputs": [],
   "source": [
    "model_name = 'microsoft/MiniLM-L12-H384-uncased'\n",
    "tokenizer = BertTokenizerFast.from_pretrained('bert-base-uncased')"
   ]
  },
  {
   "cell_type": "markdown",
   "id": "052cbd1f",
   "metadata": {},
   "source": [
    "## Part 3\n",
    "\n",
    "** Note that Parts 1, 2, 4, and 5 were completed in a separate notebook**\n",
    "\n",
    "For comparison with PET, train a regular classifier using Trainer and\n",
    "the MiniLM parameters on all the training data (very similar to what you did in Homework 3!). You\n",
    "should train your model for at least two epochs, but you’re not required to do any hyperparameter\n",
    "tuning (you just need a score). Predict the toxicity of the provided test data and calculate the F1."
   ]
  },
  {
   "cell_type": "code",
   "execution_count": 10,
   "id": "12d7a421",
   "metadata": {},
   "outputs": [
    {
     "name": "stderr",
     "output_type": "stream",
     "text": [
      "Some weights of BertForSequenceClassification were not initialized from the model checkpoint at microsoft/MiniLM-L12-H384-uncased and are newly initialized: ['classifier.bias', 'classifier.weight']\n",
      "You should probably TRAIN this model on a down-stream task to be able to use it for predictions and inference.\n"
     ]
    }
   ],
   "source": [
    "MiniLM_tokenizer = BertTokenizerFast.from_pretrained(model_name)\n",
    "MiniLMmodel = BertForSequenceClassification.from_pretrained(model_name, num_labels=2)"
   ]
  },
  {
   "cell_type": "code",
   "execution_count": 11,
   "id": "414c24d9",
   "metadata": {},
   "outputs": [],
   "source": [
    "max_input_length = 512\n",
    "max_target_length = 512\n",
    "\n",
    "def preprocess_function(examples):\n",
    "    inputs = [ex for ex in examples[\"comment_text\"]]\n",
    "    model_inputs = tokenizer(inputs, padding='max_length', max_length=max_input_length, truncation=True)\n",
    "\n",
    "\n",
    "    model_inputs[\"labels\"] = examples[\"labels\"]\n",
    "    return model_inputs"
   ]
  },
  {
   "cell_type": "code",
   "execution_count": 12,
   "id": "c644c82a",
   "metadata": {},
   "outputs": [],
   "source": [
    "train_dataset = Dataset.from_pandas(train_df.rename(columns={'toxic':'labels'}))\n",
    "# dev_dataset = Dataset.from_pandas(dev_df.rename(columns={'toxic':'labels'}))\n",
    "test_dataset = Dataset.from_pandas(test_df.rename(columns={'toxic':'labels'}))"
   ]
  },
  {
   "cell_type": "code",
   "execution_count": 13,
   "id": "b981b77f",
   "metadata": {},
   "outputs": [
    {
     "data": {
      "text/plain": [
       "Dataset({\n",
       "    features: ['id', 'comment_text', 'labels'],\n",
       "    num_rows: 159571\n",
       "})"
      ]
     },
     "execution_count": 13,
     "metadata": {},
     "output_type": "execute_result"
    }
   ],
   "source": [
    "train_dataset"
   ]
  },
  {
   "cell_type": "code",
   "execution_count": 14,
   "id": "44d8e856",
   "metadata": {},
   "outputs": [
    {
     "data": {
      "text/plain": [
       "Dataset({\n",
       "    features: ['id', 'comment_text', 'labels'],\n",
       "    num_rows: 63978\n",
       "})"
      ]
     },
     "execution_count": 14,
     "metadata": {},
     "output_type": "execute_result"
    }
   ],
   "source": [
    "test_dataset"
   ]
  },
  {
   "cell_type": "code",
   "execution_count": 15,
   "id": "5d8768ff",
   "metadata": {},
   "outputs": [
    {
     "data": {
      "application/vnd.jupyter.widget-view+json": {
       "model_id": "2c465b0be4a8455caa0be9d268ef3352",
       "version_major": 2,
       "version_minor": 0
      },
      "text/plain": [
       "  0%|          | 0/159571 [00:00<?, ?ex/s]"
      ]
     },
     "metadata": {},
     "output_type": "display_data"
    },
    {
     "data": {
      "application/vnd.jupyter.widget-view+json": {
       "model_id": "b4ee977a577047d6b2fb90c3875c6831",
       "version_major": 2,
       "version_minor": 0
      },
      "text/plain": [
       "  0%|          | 0/63978 [00:00<?, ?ex/s]"
      ]
     },
     "metadata": {},
     "output_type": "display_data"
    }
   ],
   "source": [
    "tokenized_train_dataset = train_dataset.map(lambda x: tokenizer(x['comment_text'],padding = 'max_length', max_length =512, truncation=True))\n",
    "#tokenized_dev_dataset = dev_dataset.map(lambda x: tokenizer(x['comment_text'],padding = 'max_length', max_length =512, truncation=True))\n",
    "tokenized_test_dataset = test_dataset.map(lambda x: tokenizer(x['comment_text'],padding = 'max_length', max_length =512, truncation=True))\n"
   ]
  },
  {
   "cell_type": "code",
   "execution_count": 16,
   "id": "1d0a6c4d",
   "metadata": {},
   "outputs": [
    {
     "data": {
      "text/plain": [
       "Dataset({\n",
       "    features: ['id', 'comment_text', 'labels', 'input_ids', 'token_type_ids', 'attention_mask'],\n",
       "    num_rows: 63978\n",
       "})"
      ]
     },
     "execution_count": 16,
     "metadata": {},
     "output_type": "execute_result"
    }
   ],
   "source": [
    "tokenized_test_dataset"
   ]
  },
  {
   "cell_type": "code",
   "execution_count": 17,
   "id": "53833c17",
   "metadata": {},
   "outputs": [],
   "source": [
    "tokenized_train_dataset.set_format(type='torch', columns=['input_ids', 'token_type_ids', 'attention_mask','labels'])\n",
    "# tokenized_dev_dataset.set_format(type='torch', columns=['input_ids', 'token_type_ids', 'attention_mask','labels'])\n",
    "tokenized_test_dataset.set_format(type='torch', columns=['input_ids', 'token_type_ids', 'attention_mask', 'labels'])"
   ]
  },
  {
   "cell_type": "code",
   "execution_count": 18,
   "id": "5272c40c",
   "metadata": {},
   "outputs": [],
   "source": [
    "from sklearn.metrics import f1_score\n",
    "import numpy as np\n",
    "def compute_metrics(pred):\n",
    "    labels = pred.label_ids\n",
    "    preds = pred.predictions.argmax(-1) # for whole numbers\n",
    "    preds = preds.reshape(len(preds),)\n",
    "    f1 = f1_score(labels, preds, average='macro')\n",
    "    return {\n",
    "        'f1': f1\n",
    "    }"
   ]
  },
  {
   "cell_type": "code",
   "execution_count": 19,
   "id": "72182436",
   "metadata": {},
   "outputs": [],
   "source": [
    "training_args = TrainingArguments(\n",
    "    output_dir = 'MiniLM',\n",
    "    num_train_epochs = 2,\n",
    "    learning_rate=1e-4,\n",
    "    per_device_train_batch_size = 8,\n",
    "    per_device_eval_batch_size = 16,\n",
    "    gradient_accumulation_steps = 16,\n",
    ")"
   ]
  },
  {
   "cell_type": "code",
   "execution_count": 20,
   "id": "65ae2aaa",
   "metadata": {},
   "outputs": [],
   "source": [
    "trainer = Trainer(\n",
    "    MiniLMmodel,\n",
    "    training_args,\n",
    "    train_dataset=tokenized_train_dataset,\n",
    "    eval_dataset=tokenized_test_dataset,\n",
    "    compute_metrics=compute_metrics,\n",
    ")"
   ]
  },
  {
   "cell_type": "code",
   "execution_count": 21,
   "id": "4c71fb06",
   "metadata": {},
   "outputs": [
    {
     "name": "stderr",
     "output_type": "stream",
     "text": [
      "The following columns in the training set  don't have a corresponding argument in `BertForSequenceClassification.forward` and have been ignored: id, comment_text. If id, comment_text are not expected by `BertForSequenceClassification.forward`,  you can safely ignore this message.\n",
      "/mnt/ufs18/home-098/ryanjos2/nlp_stuff/hw/SI630_NLP/hw4_prompt_based_nlp/venv_hw4/lib/python3.8/site-packages/transformers/optimization.py:306: FutureWarning: This implementation of AdamW is deprecated and will be removed in a future version. Use the PyTorch implementation torch.optim.AdamW instead, or set `no_deprecation_warning=True` to disable this warning\n",
      "  warnings.warn(\n",
      "***** Running training *****\n",
      "  Num examples = 159571\n",
      "  Num Epochs = 2\n",
      "  Instantaneous batch size per device = 8\n",
      "  Total train batch size (w. parallel, distributed & accumulation) = 256\n",
      "  Gradient Accumulation steps = 16\n",
      "  Total optimization steps = 1246\n",
      "/mnt/ufs18/home-098/ryanjos2/nlp_stuff/hw/SI630_NLP/hw4_prompt_based_nlp/venv_hw4/lib/python3.8/site-packages/torch/nn/parallel/_functions.py:68: UserWarning: Was asked to gather along dimension 0, but all input tensors were scalars; will instead unsqueeze and return a vector.\n",
      "  warnings.warn('Was asked to gather along dimension 0, but all '\n"
     ]
    },
    {
     "data": {
      "text/html": [
       "\n",
       "    <div>\n",
       "      \n",
       "      <progress value='1246' max='1246' style='width:300px; height:20px; vertical-align: middle;'></progress>\n",
       "      [1246/1246 4:45:28, Epoch 1/2]\n",
       "    </div>\n",
       "    <table border=\"1\" class=\"dataframe\">\n",
       "  <thead>\n",
       " <tr style=\"text-align: left;\">\n",
       "      <th>Step</th>\n",
       "      <th>Training Loss</th>\n",
       "    </tr>\n",
       "  </thead>\n",
       "  <tbody>\n",
       "    <tr>\n",
       "      <td>500</td>\n",
       "      <td>0.144400</td>\n",
       "    </tr>\n",
       "    <tr>\n",
       "      <td>1000</td>\n",
       "      <td>0.081400</td>\n",
       "    </tr>\n",
       "  </tbody>\n",
       "</table><p>"
      ],
      "text/plain": [
       "<IPython.core.display.HTML object>"
      ]
     },
     "metadata": {},
     "output_type": "display_data"
    },
    {
     "name": "stderr",
     "output_type": "stream",
     "text": [
      "Saving model checkpoint to MiniLM/checkpoint-500\n",
      "Configuration saved in MiniLM/checkpoint-500/config.json\n",
      "Model weights saved in MiniLM/checkpoint-500/pytorch_model.bin\n",
      "/mnt/ufs18/home-098/ryanjos2/nlp_stuff/hw/SI630_NLP/hw4_prompt_based_nlp/venv_hw4/lib/python3.8/site-packages/torch/nn/parallel/_functions.py:68: UserWarning: Was asked to gather along dimension 0, but all input tensors were scalars; will instead unsqueeze and return a vector.\n",
      "  warnings.warn('Was asked to gather along dimension 0, but all '\n",
      "Saving model checkpoint to MiniLM/checkpoint-1000\n",
      "Configuration saved in MiniLM/checkpoint-1000/config.json\n",
      "Model weights saved in MiniLM/checkpoint-1000/pytorch_model.bin\n",
      "/mnt/ufs18/home-098/ryanjos2/nlp_stuff/hw/SI630_NLP/hw4_prompt_based_nlp/venv_hw4/lib/python3.8/site-packages/torch/nn/parallel/_functions.py:68: UserWarning: Was asked to gather along dimension 0, but all input tensors were scalars; will instead unsqueeze and return a vector.\n",
      "  warnings.warn('Was asked to gather along dimension 0, but all '\n",
      "\n",
      "\n",
      "Training completed. Do not forget to share your model on huggingface.co/models =)\n",
      "\n",
      "\n"
     ]
    },
    {
     "data": {
      "text/plain": [
       "TrainOutput(global_step=1246, training_loss=0.1058224912248492, metrics={'train_runtime': 17143.8737, 'train_samples_per_second': 18.616, 'train_steps_per_second': 0.073, 'total_flos': 2.101728739680461e+16, 'train_loss': 0.1058224912248492, 'epoch': 2.0})"
      ]
     },
     "execution_count": 21,
     "metadata": {},
     "output_type": "execute_result"
    }
   ],
   "source": [
    "trainer.train()"
   ]
  },
  {
   "cell_type": "code",
   "execution_count": 22,
   "id": "eb4f8a79",
   "metadata": {},
   "outputs": [
    {
     "name": "stderr",
     "output_type": "stream",
     "text": [
      "The following columns in the evaluation set  don't have a corresponding argument in `BertForSequenceClassification.forward` and have been ignored: id, comment_text. If id, comment_text are not expected by `BertForSequenceClassification.forward`,  you can safely ignore this message.\n",
      "***** Running Evaluation *****\n",
      "  Num examples = 63978\n",
      "  Batch size = 16\n"
     ]
    },
    {
     "data": {
      "text/html": [
       "\n",
       "    <div>\n",
       "      \n",
       "      <progress value='2000' max='2000' style='width:300px; height:20px; vertical-align: middle;'></progress>\n",
       "      [2000/2000 19:30]\n",
       "    </div>\n",
       "    "
      ],
      "text/plain": [
       "<IPython.core.display.HTML object>"
      ]
     },
     "metadata": {},
     "output_type": "display_data"
    },
    {
     "data": {
      "text/plain": [
       "{'eval_loss': 0.19436031579971313,\n",
       " 'eval_f1': 0.8122410868096552,\n",
       " 'eval_runtime': 1171.5032,\n",
       " 'eval_samples_per_second': 54.612,\n",
       " 'eval_steps_per_second': 1.707,\n",
       " 'epoch': 2.0}"
      ]
     },
     "execution_count": 22,
     "metadata": {},
     "output_type": "execute_result"
    }
   ],
   "source": [
    "trainer.evaluate()"
   ]
  },
  {
   "cell_type": "code",
   "execution_count": 23,
   "id": "f8d03701",
   "metadata": {},
   "outputs": [
    {
     "name": "stderr",
     "output_type": "stream",
     "text": [
      "Saving model checkpoint to MiniLMmodel\n",
      "Configuration saved in MiniLMmodel/config.json\n",
      "Model weights saved in MiniLMmodel/pytorch_model.bin\n"
     ]
    }
   ],
   "source": [
    "trainer.save_model('MiniLMmodel')"
   ]
  }
 ],
 "metadata": {
  "kernelspec": {
   "display_name": "Python 3 (ipykernel)",
   "language": "python",
   "name": "python3"
  },
  "language_info": {
   "codemirror_mode": {
    "name": "ipython",
    "version": 3
   },
   "file_extension": ".py",
   "mimetype": "text/x-python",
   "name": "python",
   "nbconvert_exporter": "python",
   "pygments_lexer": "ipython3",
   "version": "3.8.2"
  }
 },
 "nbformat": 4,
 "nbformat_minor": 5
}
